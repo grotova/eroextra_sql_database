{
 "cells": [
  {
   "cell_type": "markdown",
   "id": "4a81077e",
   "metadata": {},
   "source": [
    "##  Convert a sqlite3 database to MySQL"
   ]
  },
  {
   "cell_type": "code",
   "execution_count": 1,
   "id": "7f4051bc",
   "metadata": {},
   "outputs": [],
   "source": [
    "import sqlite3\n",
    "import re"
   ]
  },
  {
   "cell_type": "code",
   "execution_count": 2,
   "id": "62fee34d",
   "metadata": {},
   "outputs": [],
   "source": [
    "sqlite_db_path = \"eroextra.db\" \n",
    "output_sql_file = \"mysql_eroextra.sql\""
   ]
  },
  {
   "cell_type": "code",
   "execution_count": 3,
   "id": "cc6abcb5",
   "metadata": {},
   "outputs": [
    {
     "name": "stdout",
     "output_type": "stream",
     "text": [
      "MySQL-compatible dump saved to: mysql_eroextra.sql\n"
     ]
    }
   ],
   "source": [
    "#Extract raw SQLite\n",
    "conn = sqlite3.connect(sqlite_db_path)\n",
    "cursor = conn.cursor()\n",
    "\n",
    "raw_dump = \"\\n\".join(conn.iterdump())\n",
    "conn.close()\n",
    "\n",
    "# Convert SQLite syntax to MySQL-compatible\n",
    "\n",
    "converted_dump = re.sub(r\"AUTOINCREMENT\", \"AUTO_INCREMENT\", raw_dump)\n",
    "\n",
    "converted_dump = re.sub(r\"^PRAGMA .*?;\\s*\", \"\", converted_dump, flags=re.MULTILINE)\n",
    "converted_dump = re.sub(r\"^BEGIN TRANSACTION;\\s*\", \"\", converted_dump, flags=re.MULTILINE)\n",
    "converted_dump = re.sub(r\"^COMMIT;\\s*\", \"\", converted_dump, flags=re.MULTILINE)\n",
    "\n",
    "converted_dump = re.sub(r'\"([^\"]+)\"', r'`\\1`', converted_dump)\n",
    "\n",
    "converted_dump = re.sub(r'\\bTEXT\\b', 'VARCHAR(255)', converted_dump)\n",
    "converted_dump = re.sub(r'\\bREAL\\b', 'DOUBLE', converted_dump)\n",
    "\n",
    "#Save the converted dump to .sql ===\n",
    "with open(output_sql_file, \"w\") as f:\n",
    "    f.write(converted_dump)\n",
    "\n",
    "print(f\"MySQL-compatible dump saved to: {output_sql_file}\")\n"
   ]
  },
  {
   "cell_type": "code",
   "execution_count": null,
   "id": "2bdc0011",
   "metadata": {},
   "outputs": [],
   "source": []
  }
 ],
 "metadata": {
  "kernelspec": {
   "display_name": "Python 3 (ipykernel)",
   "language": "python",
   "name": "python3"
  },
  "language_info": {
   "codemirror_mode": {
    "name": "ipython",
    "version": 3
   },
   "file_extension": ".py",
   "mimetype": "text/x-python",
   "name": "python",
   "nbconvert_exporter": "python",
   "pygments_lexer": "ipython3",
   "version": "3.10.8"
  }
 },
 "nbformat": 4,
 "nbformat_minor": 5
}
